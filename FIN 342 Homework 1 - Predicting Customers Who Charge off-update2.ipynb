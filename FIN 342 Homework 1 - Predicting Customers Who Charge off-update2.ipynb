{
 "cells": [
  {
   "cell_type": "markdown",
   "metadata": {
    "_cell_guid": "2f7a0904-0c00-44ab-94d2-5e384a712179",
    "_uuid": "459c4e0f50d6d1e05e1d6e56fcd608b5ef97fcfa"
   },
   "source": [
    "# Predicting customers who will \"charge-off\""
   ]
  },
  {
   "cell_type": "markdown",
   "metadata": {
    "_cell_guid": "1035f4c9-a6a2-4134-8790-ea463d04141e",
    "_uuid": "6f691b352c268a6d8327ba8af16d192d9f2f63d7"
   },
   "source": [
    "#Define charge-off\n",
    "Steps:\n",
    "1. Data Cleaning\n",
    "2. Feature selection and transformation\n",
    "3. Build the models\n",
    "4. Test the models"
   ]
  },
  {
   "cell_type": "markdown",
   "metadata": {},
   "source": [
    "Before starting: Install the imblearn python package on your computer! \n",
    "    \n",
    "    Run the following in terminal: pip install -U imbalanced-learn"
   ]
  },
  {
   "cell_type": "markdown",
   "metadata": {
    "_cell_guid": "f301410c-84bb-43cc-b933-612fc4737a6d",
    "_uuid": "c5f69760a462376cb9161f7ba7f8de121a0df996"
   },
   "source": [
    "Let's load the libraries, connect to the database, parse dates and load all data in-memory. Make sure the three files database.sqlite, LCDataDictionary.xlsx, and loan.csv are all in the same folder as this notebook."
   ]
  },
  {
   "cell_type": "code",
   "execution_count": null,
   "metadata": {
    "_cell_guid": "a5dcdb06-f087-4af2-b669-102ce442834f",
    "_uuid": "a1a8dd2e4f8b7271434c1832738d1339485e8fa5"
   },
   "outputs": [],
   "source": [
    "import sqlite3 #this library manages sql databases\n",
    "import pandas as pd  #this library enables data manipulation and analysis methods to be used in Python\n",
    "import numpy as np #this library focuses on scientific computing and using arrays and matrices\n",
    "%matplotlib inline \n",
    "import matplotlib.pyplot as plt #this imports the matplotlib library, along with the interactive plotting pylab module\n",
    "\n",
    "conn = sqlite3.connect('database.sqlite') # This runs sql within Python; will take a few minutes to run - literally, a few minutes\n",
    "to_parse = ['issue_d' , 'earliest_cr_line', 'last_pymnt_d', 'next_pymnt_d', 'last_credit_pull_d'] #takes a look at the columns, and cuts them up along columns, extracts columns so we can build a Python dataframe\n",
    "df = pd.read_sql_query('select * from loan', con=conn, parse_dates = to_parse) #pandas feature, read SQL query into dataframe and load in-memory"
   ]
  },
  {
   "cell_type": "code",
   "execution_count": null,
   "metadata": {
    "scrolled": true
   },
   "outputs": [],
   "source": [
    "df.head() #shows the first few rows of the pandas dataframe we created; allows you to see the variables"
   ]
  },
  {
   "cell_type": "code",
   "execution_count": null,
   "metadata": {},
   "outputs": [],
   "source": [
    "print('The shape is {}'.format(df.shape)) #tells us no of rows and columns of the df\n",
    "print('Memory : {} Mb'.format(int(df.memory_usage(deep=False).sum() / 1000000))) #tells us how big the df is in Mb"
   ]
  },
  {
   "cell_type": "markdown",
   "metadata": {},
   "source": [
    "That's a fairly large dataframe! Perhaps we can reduce its size without loss by removing cells with little information. (What does \"little information\" mean?) This will serve to make the dataframe more manageable."
   ]
  },
  {
   "cell_type": "markdown",
   "metadata": {},
   "source": [
    "For this first assignment, we will remove columns whose cells are missing more than 60% of their values. "
   ]
  },
  {
   "cell_type": "markdown",
   "metadata": {
    "_cell_guid": "2117b059-a562-4617-8fb1-9efff1b01f11",
    "_uuid": "0d154d0229d61f015a4e469388a874b84ee468a7"
   },
   "source": [
    "## Data Cleaning"
   ]
  },
  {
   "cell_type": "markdown",
   "metadata": {
    "_cell_guid": "41275678-fff6-4479-83fa-239730a09cd6",
    "_uuid": "7529eb5687354a7e7b87ce8efcf52d02e2ad59d5"
   },
   "source": [
    "\n",
    "### Check which features have good coverage, e.g. more/less than N% missing values"
   ]
  },
  {
   "cell_type": "code",
   "execution_count": null,
   "metadata": {
    "_cell_guid": "e7a82363-2bff-4e84-bb8a-6a252a203016",
    "_uuid": "73e0e88ed8760aaae223f9a4a277b046a5823a67",
    "scrolled": true
   },
   "outputs": [],
   "source": [
    "check_null = df.isnull().sum(axis=0).sort_values(ascending=False)/float(len(df))#.isnull() is a pandas feature that checks for missing values\n",
    "#.sum() is a feature that will sum the previous feature of how many null values, with axis = 0 representing a vertical concatenation, which checks down the column of each dataframe. If axis = 1, this would be a horizontal concatenation checking each row instead of columns\n",
    "#sort_values will then sort the results, with ascending = False meaning that results will be sorted is a descending order. This is all divided by the length of the dataframe, which has been converted to a float value\n",
    "check_null[check_null>0.6] #outputs the feature and fraction of missing values"
   ]
  },
  {
   "cell_type": "markdown",
   "metadata": {},
   "source": [
    "How many columns have more than 60% missing?"
   ]
  },
  {
   "cell_type": "code",
   "execution_count": null,
   "metadata": {},
   "outputs": [],
   "source": [
    "check_null[check_null>0.6].size #.size is a feature that returns how big a series is. Check_null is a series which checks for how many columns have more than 60% of their values missing, meaning that 20 columns have more than 60% of data missing\n",
    "#check_null is the overall series we are checking, but we must specify [check_null>0.6] to capture that we are looking for specifically parts of the series that have >60% data missing"
   ]
  },
  {
   "cell_type": "code",
   "execution_count": null,
   "metadata": {},
   "outputs": [],
   "source": [
    "df.head() #shows the first few rows of the pandas dataframe we created; allows you to see the variables"
   ]
  },
  {
   "cell_type": "markdown",
   "metadata": {
    "_cell_guid": "c1496d6f-6bd2-4d6a-aaba-8a5b26b72f0a",
    "_uuid": "fb74047c78953d538e30078418bafaebca6a4389"
   },
   "source": [
    "### Checking Features With Little Variation or No Use"
   ]
  },
  {
   "cell_type": "markdown",
   "metadata": {},
   "source": [
    "A lot of these columns have NaN values, or have little variation. Neither of these will be super useful to us. Let us first look at the columns with little variation, NaN values, and then drop columns we do not need."
   ]
  },
  {
   "cell_type": "markdown",
   "metadata": {},
   "source": [
    "1) index\n",
    "2) policy_code\n",
    "3) pymnt_plan\n",
    "4) url\n",
    "5) id\n",
    "6) member_id\n",
    "7) application_type\n",
    "8) acc_now_delinq\n",
    "9) emp_title\n",
    "10) zip_code\n",
    "11) title"
   ]
  },
  {
   "cell_type": "markdown",
   "metadata": {},
   "source": [
    "Index is already built into the dataframe, so let us drop it."
   ]
  },
  {
   "cell_type": "markdown",
   "metadata": {},
   "source": [
    "#### Exploring Columns with Little Variation"
   ]
  },
  {
   "cell_type": "markdown",
   "metadata": {},
   "source": [
    "We will now use .groupby to group the dataframe by the specified columns above and sort each column by its values to showcase how much variation these columns have."
   ]
  },
  {
   "cell_type": "code",
   "execution_count": null,
   "metadata": {},
   "outputs": [],
   "source": [
    "#get grouped data\n",
    "df.groupby('policy_code').size().sort_values()\n",
    "#.groupby is a pandas feature that will group the dataframe amongst groups designated by mappers or column names\n",
    "#in this case we want the policy_code data so we will group by inputting the column policy_code to get that data\n",
    "#.size() will compute the group size\n",
    "#.sort_values() will then sort the values\n",
    "#since all values are the same, we get the following: 1.0 value for POlicy_code amongst all 887382 rows"
   ]
  },
  {
   "cell_type": "code",
   "execution_count": null,
   "metadata": {},
   "outputs": [],
   "source": [
    "#check for variation\n",
    "np.var(df.filter(regex='policy_code'))\n",
    "#np is numpy\n",
    "#.var is a numpy feature that will return the variance for the specified elements\n",
    "#df.filter serves to filter the data we want the variance on\n",
    "#regex stands for regular expression, which we are inputting as policy_code to specify this is the data we want variance on\n",
    "#note that variance only works when checking numbers (int/float), not strings"
   ]
  },
  {
   "cell_type": "markdown",
   "metadata": {},
   "source": [
    "An output of 0 means there is no variance, which makes sense as policy_code is always = 1.0."
   ]
  },
  {
   "cell_type": "code",
   "execution_count": null,
   "metadata": {
    "scrolled": true
   },
   "outputs": [],
   "source": [
    "df.groupby('pymnt_plan').size().sort_values()"
   ]
  },
  {
   "cell_type": "code",
   "execution_count": null,
   "metadata": {},
   "outputs": [],
   "source": [
    "#Now we are going to try a loop to see if we can catch the number of unique values in this column\n",
    "#we do a loop instead of the above variance method as variance only works on numbers, and this column has string values of \"yes\" or \"no\"\n",
    "unique = [] #set an empty list\n",
    "for x in df.groupby('pymnt_plan').size().sort_values(): #create a for loop, saying that for each value in the payment plan column\n",
    "    if x not in unique: #for each of those values, if they are not in the unique list\n",
    "        unique.append(x) #append/add the value to the list\n",
    "print(len(unique)) #after the loop ends, print out the length of the unique list, which effectively gives us the number of unique values"
   ]
  },
  {
   "cell_type": "markdown",
   "metadata": {},
   "source": [
    "Only 2 different values. For pymnt_plan, only 10 rows take the value \"yes\", which means there is little useful variation. URL, ID doesn't seem to have any useful information."
   ]
  },
  {
   "cell_type": "code",
   "execution_count": null,
   "metadata": {},
   "outputs": [],
   "source": [
    "df.groupby('application_type').size().sort_values()"
   ]
  },
  {
   "cell_type": "markdown",
   "metadata": {},
   "source": [
    "A majority of the applications are indiviudal, with few joint. The little variation here does not help or contribute to our analysis, so this will also be removed. (Alternatively, we could separately analyze the data sets, or just analyze individual applications. Try this at home?)"
   ]
  },
  {
   "cell_type": "code",
   "execution_count": null,
   "metadata": {},
   "outputs": [],
   "source": [
    "df.groupby('acc_now_delinq').size().sort_values() # for now, we don't use that variable, but perhaps we can use it in the future?"
   ]
  },
  {
   "cell_type": "code",
   "execution_count": null,
   "metadata": {},
   "outputs": [],
   "source": [
    "np.var(df.filter(regex='acc_now_delinq'))"
   ]
  },
  {
   "cell_type": "markdown",
   "metadata": {},
   "source": [
    "The variance is quite low, meaning that the values are close to each other. Also notice the majority of values are concentrated at 0.0"
   ]
  },
  {
   "cell_type": "code",
   "execution_count": null,
   "metadata": {},
   "outputs": [],
   "source": [
    "df.groupby('emp_title').size().sort_values() # for now, we don't use that variable, but perhaps we can use it in the future?"
   ]
  },
  {
   "cell_type": "code",
   "execution_count": null,
   "metadata": {},
   "outputs": [],
   "source": [
    "unique = []\n",
    "for x in df.groupby('emp_title').size().sort_values():\n",
    "    if x not in unique:\n",
    "        unique.append(x)\n",
    "print(len(unique))"
   ]
  },
  {
   "cell_type": "markdown",
   "metadata": {},
   "source": [
    "So there are a lot of different professions here. Perhaps we can use that later."
   ]
  },
  {
   "cell_type": "code",
   "execution_count": null,
   "metadata": {},
   "outputs": [],
   "source": [
    "df.groupby('zip_code').size().sort_values() # for now, we don't use that variable, but perhaps we can use it in the future?"
   ]
  },
  {
   "cell_type": "code",
   "execution_count": null,
   "metadata": {},
   "outputs": [],
   "source": [
    "unique = []\n",
    "for x in df.groupby('zip_code').size().sort_values():\n",
    "    if x not in unique:\n",
    "        unique.append(x)\n",
    "print(len(unique))"
   ]
  },
  {
   "cell_type": "code",
   "execution_count": null,
   "metadata": {},
   "outputs": [],
   "source": [
    "df.groupby('title').size().sort_values() #You could try and check whether people who know how to spell English words are less likely to default"
   ]
  },
  {
   "cell_type": "code",
   "execution_count": null,
   "metadata": {},
   "outputs": [],
   "source": [
    "unique = []\n",
    "for x in df.groupby('title').size().sort_values():\n",
    "    if x not in unique:\n",
    "        unique.append(x)\n",
    "print(len(unique))"
   ]
  },
  {
   "cell_type": "markdown",
   "metadata": {
    "_cell_guid": "cce27f3e-d0d5-4895-9b9a-be773e9e2597",
    "_uuid": "88d40660588ccd67a071a344b596be1f603cf611"
   },
   "source": [
    "Now that we have gone through the data for the above columns, we can now delete them and columns lacking value:"
   ]
  },
  {
   "cell_type": "code",
   "execution_count": null,
   "metadata": {
    "_cell_guid": "516a4d89-cc9c-491c-a648-395b4431e357",
    "_uuid": "f63cde4bfc3ec221d47295f3a22cf9011c75fd36"
   },
   "outputs": [],
   "source": [
    "df.dropna(axis = 1, how = 'all') #vertical concatenation, ensure only dropping columns who have ALL NaN values\n"
   ]
  },
  {
   "cell_type": "markdown",
   "metadata": {},
   "source": [
    "To check this worked, let us list the columns now"
   ]
  },
  {
   "cell_type": "code",
   "execution_count": null,
   "metadata": {
    "_cell_guid": "dc6e7bb5-c764-4a49-95a8-a618cf07010c",
    "_uuid": "05a417b294eab7e91f0677625be7ddd867314d2d",
    "scrolled": true
   },
   "outputs": [],
   "source": [
    "df.columns        "
   ]
  },
  {
   "cell_type": "markdown",
   "metadata": {},
   "source": [
    "Now to specifically remove columns we just checked with little variation or data that does not apply to us right now. "
   ]
  },
  {
   "cell_type": "code",
   "execution_count": null,
   "metadata": {},
   "outputs": [],
   "source": [
    "delete_me = ['index', 'policy_code', 'pymnt_plan', 'url', 'id', 'member_id', 'application_type', 'acc_now_delinq','emp_title', 'zip_code','title']\n",
    "#created a list of columns we want to delete\n",
    "df.drop(delete_me , axis=1, inplace=True) \n",
    "#using the drop feature in pandas to drop the specified items in delete me, through a vertical concatenation to make sure we are specifying we want to delete columns\n",
    "#inplace = True means that the data is renamed in place (it returns nothing), instead of creating a copy, which would happen if inplace = False"
   ]
  },
  {
   "cell_type": "markdown",
   "metadata": {},
   "source": [
    "Let's check the columns again!"
   ]
  },
  {
   "cell_type": "code",
   "execution_count": null,
   "metadata": {},
   "outputs": [],
   "source": [
    "df.columns #load columns"
   ]
  },
  {
   "cell_type": "markdown",
   "metadata": {},
   "source": [
    "Excellent! Now, let's check the basic stats for each column."
   ]
  },
  {
   "cell_type": "code",
   "execution_count": null,
   "metadata": {},
   "outputs": [],
   "source": [
    "df.describe() #get basic stats of each column in table now"
   ]
  },
  {
   "cell_type": "markdown",
   "metadata": {},
   "source": [
    "Now, let's check the type of each column."
   ]
  },
  {
   "cell_type": "code",
   "execution_count": null,
   "metadata": {},
   "outputs": [],
   "source": [
    "df.dtypes #check types"
   ]
  },
  {
   "cell_type": "markdown",
   "metadata": {},
   "source": [
    "As we can see, there are a variety of data types. Let's clean that up and convert specifcally the datetime64[ns] type into something we can better use."
   ]
  },
  {
   "cell_type": "markdown",
   "metadata": {
    "_cell_guid": "925e8374-1c79-4f0a-b9cf-e70c94a95b8c",
    "_uuid": "eb10242aede23497f406c224fce4033d19e9fcf8",
    "scrolled": true
   },
   "source": [
    "## Feature transformations"
   ]
  },
  {
   "cell_type": "markdown",
   "metadata": {
    "_cell_guid": "88885c35-f12e-4b86-a157-97e822b5b2c9",
    "_uuid": "21edecc4d8e90408fc308c1447828389fd7f52a2"
   },
   "source": [
    "We need to transform a few metrics which sound very important, but are formatted as strings. These transformations are performed with the data modelling in mind. Ultimatelly we want to produce a dataset almost ready to be fed to the model. Here is a summary of the operations performed:\n",
    "\n",
    "1) Strip months from term and make it an integer\n",
    "2) The Interest rate is a string. Remove % and make it a float\n",
    "3) Extract numbers from emp_length and fill missing values with the median. If emp_length == 10+ years then leave it as 10\n",
    "4) Transform datetimes to a Period (class in Pandas)"
   ]
  },
  {
   "cell_type": "code",
   "execution_count": null,
   "metadata": {},
   "outputs": [],
   "source": [
    "df.head()"
   ]
  },
  {
   "cell_type": "code",
   "execution_count": null,
   "metadata": {
    "scrolled": true
   },
   "outputs": [],
   "source": [
    "#1. Strip `months` from `term` e.g. \"36 month\" to \"36\"\n",
    "df['term'] = df['term'].str.split(' ').str[1] #str = string\n",
    "#breaking term values by space, turning [36 months] into [36, months]\n",
    "#Can anyone figure out why the index is 1 instead of 0? "
   ]
  },
  {
   "cell_type": "code",
   "execution_count": null,
   "metadata": {
    "_cell_guid": "bdee8b9c-1f7c-408f-8317-cd2885a63c95",
    "_uuid": "04831b39ab0715563de9e382a749fbbd339373d1"
   },
   "outputs": [],
   "source": [
    "#interest rate is a string. Remove % and make it a float. \n",
    "df['int_rate'] = df['int_rate'].str.split('%').str[0]\n",
    "#break int_rate terms by %, turning [10.65%] into [10.65]\n",
    "df['int_rate'] = df.int_rate.astype(float)/100.\n",
    "#making it so that int_rate is now assigned type float\n",
    "#divide by 100 to convert to decimal and ensure proper value since % was removed"
   ]
  },
  {
   "cell_type": "code",
   "execution_count": null,
   "metadata": {
    "scrolled": true
   },
   "outputs": [],
   "source": [
    "df.head() #success"
   ]
  },
  {
   "cell_type": "markdown",
   "metadata": {},
   "source": [
    "Extract numbers from emp_length and fill missing values with the median."
   ]
  },
  {
   "cell_type": "code",
   "execution_count": null,
   "metadata": {},
   "outputs": [],
   "source": [
    "df['emp_length'] = df['emp_length'].str.extract('(\\d+)').astype(float)\n",
    "#\\d+ extracts the integer\n",
    "#emp_length is probably important for modelling defaul, so I don't want to drop it, but instead fill in missing values. But that could be wrong. I'm making up data, after all. Check later?\n",
    "df['emp_length'] = df['emp_length'].fillna(df.emp_length.median())\n",
    "#assigning median values to fill missing values, done by .fillna feature\n"
   ]
  },
  {
   "cell_type": "markdown",
   "metadata": {},
   "source": [
    "Change the format of the datetime"
   ]
  },
  {
   "cell_type": "code",
   "execution_count": null,
   "metadata": {},
   "outputs": [],
   "source": [
    "col_dates = df.dtypes[df.dtypes == 'datetime64[ns]'].index\n",
    "#selecting all values in dataframe whose datatype is equal to datetimes, assigning to col_dates\n",
    "for d in col_dates:\n",
    "    df[d] = df[d].dt.to_period('M')\n",
    "#creating for loop where for all dates in col_dates, the datatype will be converted to period\n",
    "#Periods are a class in Python that represent periods of time, and are much easier to manipulate than the current format\n",
    "#'M' input for to_period stands for months, since that is the time period we are dealing with"
   ]
  },
  {
   "cell_type": "code",
   "execution_count": null,
   "metadata": {
    "scrolled": true
   },
   "outputs": [],
   "source": [
    "df.head() #reload dataframe"
   ]
  },
  {
   "cell_type": "markdown",
   "metadata": {},
   "source": [
    "Now, to check the types of the dataframe to make sure things worked"
   ]
  },
  {
   "cell_type": "code",
   "execution_count": null,
   "metadata": {},
   "outputs": [],
   "source": [
    "df.dtypes"
   ]
  },
  {
   "cell_type": "markdown",
   "metadata": {},
   "source": [
    "Now we can move onto the modelling!"
   ]
  },
  {
   "cell_type": "markdown",
   "metadata": {
    "_cell_guid": "6fb210bd-b43d-4e0a-acd2-c6c48ae3b64c",
    "_uuid": "1560a957b2928f084b4828816d1adb4633f2850d"
   },
   "source": [
    "# Data Modelling"
   ]
  },
  {
   "cell_type": "markdown",
   "metadata": {
    "_cell_guid": "3264f8c8-f549-4005-b457-9437e0ac7d77",
    "_uuid": "c28570af41ba52c1be71de008e3bac0d9e10276d"
   },
   "source": [
    "Let's build a model which predicts the status charged_off. (Which question does that answer? Are you perhaps also interested in answering different questions?) Let's first check which fraction of the observations is charged off."
   ]
  },
  {
   "cell_type": "code",
   "execution_count": null,
   "metadata": {
    "scrolled": true
   },
   "outputs": [],
   "source": [
    "loan_status_grouped = df.groupby('loan_status').size().sort_values(ascending=False)/len(df) * 100\n",
    "#checking each loan status by pulling the column of statuses and sorting from high to low commonality\n",
    "#divide by length of data frame in end to figure out percentage of total dataframe that is status\n",
    "#multiply by 100 since percentages (since there is no % sign)\n",
    "loan_status_grouped\n",
    "#show status breakdown"
   ]
  },
  {
   "cell_type": "markdown",
   "metadata": {
    "_cell_guid": "cd2825fd-caba-4ddb-a793-7ededf4ba8c4",
    "_uuid": "d40f7a475d4cb37200d893a54fd3bccf2ae589c8"
   },
   "source": [
    "Now we can think of constructing features that are transformation of existing features. (E.g. remember: if you use linear models, you may want to construct variables that allow linear models to fit non-linear relationships along a particular dimension. Think y = x^2.)\n",
    "\n",
    "* Let's keep the loan_amount, but let's create a metric which indicates that the total amount committed by investors for that loan at that point in time (funded_amnt_inv) is less than what the borrower requested. Perhaps that indicates that other investors aren't super comfortable with the repayment ability?"
   ]
  },
  {
   "cell_type": "code",
   "execution_count": null,
   "metadata": {
    "_cell_guid": "324e99bb-8a5e-4a4d-aeac-310629d243cc",
    "_uuid": "c3710bbef5ad4469522de3a001da4c206bb676c6"
   },
   "outputs": [],
   "source": [
    "df['amt_difference'] = 'eq' #set equal as the default value for amt_difference\n",
    "df.loc[(df['funded_amnt'] - df['funded_amnt_inv']) > 0,'amt_difference'] = 'less'\n",
    "#replaces the value equal with less in case the funded amount is less than requested\n",
    "df.head()"
   ]
  },
  {
   "cell_type": "markdown",
   "metadata": {
    "_cell_guid": "45e5360c-91df-401b-82c1-2b19f8cfa763",
    "_uuid": "f7456cb16718108c1f118a740e42e8cfdcf3aff5"
   },
   "source": [
    "\n",
    "* the metrics `delinq_2yrs` has 80% zeros. Let's make it categorical: `no` when `delinq_2yrs == 0` and `yes` when  `delinq_2yrs > 0`\n",
    "\n",
    "* Same as above for `inq_last_6mths`: The number of inquiries in past 6 months (excluding auto and mortgage inquiries)\n",
    "\n",
    "* Same as above for `pub_rec`: let's make the number of derogatory public records a binary. (You may play with that and see if we lose information.)"
   ]
  },
  {
   "cell_type": "code",
   "execution_count": null,
   "metadata": {
    "_cell_guid": "86076fa6-877f-404f-928b-548d3e327805",
    "_uuid": "b942658786a2a0c6e1d50a6c53eb0dcd7e287a5a"
   },
   "outputs": [],
   "source": [
    "# Turn some continuous variables into binaries\n",
    "\n",
    "df['delinq_2yrs_cat'] = 'no'\n",
    "df.loc[df['delinq_2yrs']> 0,'delinq_2yrs_cat'] = 'yes'\n",
    "#.loc access a group of rows and columns by label(s) or a boolean/conditional lookup, which is why it is being used here\n",
    "#label used is the dataframe for delinq, if greater than 0 assigning those values yes\n",
    "#.loc lets us scour this data and insert yes when the boolean condition demands it\n",
    "\n",
    "df['inq_last_6mths_cat'] = 'no'\n",
    "df.loc[df['inq_last_6mths']> 0,'inq_last_6mths_cat'] = 'yes'\n",
    "#same idea as above\n",
    "\n",
    "df['pub_rec_cat'] = 'no'\n",
    "df.loc[df['pub_rec']> 0,'pub_rec_cat'] = 'yes'\n",
    "#same idea as above\n",
    "\n",
    "# Create new metric: which fraction of total credit lines is the borrower currently able to still borrow from?\n",
    "df['acc_ratio'] = df.open_acc / df.total_acc\n",
    "#new ratio takes open accounts and divides by total accounts to find fraction of total that are open"
   ]
  },
  {
   "cell_type": "markdown",
   "metadata": {
    "_cell_guid": "ce384281-9f5c-47b9-b08d-93fcb4a24567",
    "_uuid": "798c3e6e553f75f233868e51ec89865f61c88aab"
   },
   "source": [
    "These are the features we want to use as predictors of charge-off"
   ]
  },
  {
   "cell_type": "code",
   "execution_count": 109,
   "metadata": {
    "_cell_guid": "9b7b4741-d61d-4404-a172-13fdc9ad24fc",
    "_uuid": "4e8ec281717ceeabe9dc89587ad1cd638393a9aa"
   },
   "outputs": [],
   "source": [
    "features = ['loan_amnt', 'amt_difference', 'term', \n",
    "            'installment', 'grade','emp_length',\n",
    "            'revol_bal', #added this features\n",
    "            'home_ownership', 'annual_inc','verification_status',\n",
    "            'purpose', 'dti', 'delinq_2yrs_cat', 'inq_last_6mths_cat', \n",
    "            'open_acc', 'pub_rec', 'pub_rec_cat', 'acc_ratio', 'initial_list_status',  \n",
    "            'loan_status'\n",
    "           ]\n",
    "#creating list of features\n",
    "\n",
    "#weighting \n",
    "#weights = {'loan_amnt':0.1, 'amt_difference':0.05, 'term':0.05, \n",
    "  #          'installment':0.1, 'grade':0.05,'emp_length':0.1,\n",
    "   #         'revol_bal':0.025, \n",
    "     #       'home_ownership':0.05, 'annual_inc':0.05,'verification_status':0.05,\n",
    "    #        'purpose':0.025, 'dti':0.1, 'delinq_2yrs_cat':0.05, 'inq_last_6mths_cat':0.05, \n",
    "      #      'open_acc':0.025, 'pub_rec':0.025, 'pub_rec_cat':0.025, 'acc_ratio':0.025, 'initial_list_status':0.025,  \n",
    "       #     'loan_status':0.025}"
   ]
  },
  {
   "cell_type": "markdown",
   "metadata": {
    "_cell_guid": "3d291be0-1b58-43bc-9b51-e18e0dba8b0c",
    "_uuid": "07682f5040e7359ea6e4028301cb0b14c687ca81"
   },
   "source": [
    "We want to distinguish between a customer who will *charge off* and a customer who will pay in full. For this iteration of this exercise, we remove borrowers who are current. But that limits our sample in interesting ways. We will reconsider this step in the future."
   ]
  },
  {
   "cell_type": "code",
   "execution_count": 110,
   "metadata": {
    "_cell_guid": "f26568e8-72b0-4b29-9f85-76514a46d0a6",
    "_uuid": "02efe9696ceaa912debfceb86934d945800df8f1",
    "scrolled": true
   },
   "outputs": [
    {
     "data": {
      "text/html": [
       "<div>\n",
       "<style scoped>\n",
       "    .dataframe tbody tr th:only-of-type {\n",
       "        vertical-align: middle;\n",
       "    }\n",
       "\n",
       "    .dataframe tbody tr th {\n",
       "        vertical-align: top;\n",
       "    }\n",
       "\n",
       "    .dataframe thead th {\n",
       "        text-align: right;\n",
       "    }\n",
       "</style>\n",
       "<table border=\"1\" class=\"dataframe\">\n",
       "  <thead>\n",
       "    <tr style=\"text-align: right;\">\n",
       "      <th></th>\n",
       "      <th>loan_amnt</th>\n",
       "      <th>amt_difference</th>\n",
       "      <th>term</th>\n",
       "      <th>installment</th>\n",
       "      <th>grade</th>\n",
       "      <th>emp_length</th>\n",
       "      <th>revol_bal</th>\n",
       "      <th>home_ownership</th>\n",
       "      <th>annual_inc</th>\n",
       "      <th>verification_status</th>\n",
       "      <th>purpose</th>\n",
       "      <th>dti</th>\n",
       "      <th>delinq_2yrs_cat</th>\n",
       "      <th>inq_last_6mths_cat</th>\n",
       "      <th>open_acc</th>\n",
       "      <th>pub_rec</th>\n",
       "      <th>pub_rec_cat</th>\n",
       "      <th>acc_ratio</th>\n",
       "      <th>initial_list_status</th>\n",
       "      <th>loan_status</th>\n",
       "    </tr>\n",
       "  </thead>\n",
       "  <tbody>\n",
       "    <tr>\n",
       "      <th>0</th>\n",
       "      <td>5000.0</td>\n",
       "      <td>less</td>\n",
       "      <td>36</td>\n",
       "      <td>162.87</td>\n",
       "      <td>B</td>\n",
       "      <td>10.0</td>\n",
       "      <td>13648.0</td>\n",
       "      <td>RENT</td>\n",
       "      <td>24000.0</td>\n",
       "      <td>Verified</td>\n",
       "      <td>credit_card</td>\n",
       "      <td>27.65</td>\n",
       "      <td>no</td>\n",
       "      <td>yes</td>\n",
       "      <td>3.0</td>\n",
       "      <td>0.0</td>\n",
       "      <td>no</td>\n",
       "      <td>0.333333</td>\n",
       "      <td>f</td>\n",
       "      <td>Fully Paid</td>\n",
       "    </tr>\n",
       "    <tr>\n",
       "      <th>1</th>\n",
       "      <td>2500.0</td>\n",
       "      <td>eq</td>\n",
       "      <td>60</td>\n",
       "      <td>59.83</td>\n",
       "      <td>C</td>\n",
       "      <td>1.0</td>\n",
       "      <td>1687.0</td>\n",
       "      <td>RENT</td>\n",
       "      <td>30000.0</td>\n",
       "      <td>Source Verified</td>\n",
       "      <td>car</td>\n",
       "      <td>1.00</td>\n",
       "      <td>no</td>\n",
       "      <td>yes</td>\n",
       "      <td>3.0</td>\n",
       "      <td>0.0</td>\n",
       "      <td>no</td>\n",
       "      <td>0.750000</td>\n",
       "      <td>f</td>\n",
       "      <td>Charged Off</td>\n",
       "    </tr>\n",
       "    <tr>\n",
       "      <th>2</th>\n",
       "      <td>2400.0</td>\n",
       "      <td>eq</td>\n",
       "      <td>36</td>\n",
       "      <td>84.33</td>\n",
       "      <td>C</td>\n",
       "      <td>10.0</td>\n",
       "      <td>2956.0</td>\n",
       "      <td>RENT</td>\n",
       "      <td>12252.0</td>\n",
       "      <td>Not Verified</td>\n",
       "      <td>small_business</td>\n",
       "      <td>8.72</td>\n",
       "      <td>no</td>\n",
       "      <td>yes</td>\n",
       "      <td>2.0</td>\n",
       "      <td>0.0</td>\n",
       "      <td>no</td>\n",
       "      <td>0.200000</td>\n",
       "      <td>f</td>\n",
       "      <td>Fully Paid</td>\n",
       "    </tr>\n",
       "    <tr>\n",
       "      <th>3</th>\n",
       "      <td>10000.0</td>\n",
       "      <td>eq</td>\n",
       "      <td>36</td>\n",
       "      <td>339.31</td>\n",
       "      <td>C</td>\n",
       "      <td>10.0</td>\n",
       "      <td>5598.0</td>\n",
       "      <td>RENT</td>\n",
       "      <td>49200.0</td>\n",
       "      <td>Source Verified</td>\n",
       "      <td>other</td>\n",
       "      <td>20.00</td>\n",
       "      <td>no</td>\n",
       "      <td>yes</td>\n",
       "      <td>10.0</td>\n",
       "      <td>0.0</td>\n",
       "      <td>no</td>\n",
       "      <td>0.270270</td>\n",
       "      <td>f</td>\n",
       "      <td>Fully Paid</td>\n",
       "    </tr>\n",
       "    <tr>\n",
       "      <th>5</th>\n",
       "      <td>5000.0</td>\n",
       "      <td>eq</td>\n",
       "      <td>36</td>\n",
       "      <td>156.46</td>\n",
       "      <td>A</td>\n",
       "      <td>3.0</td>\n",
       "      <td>7963.0</td>\n",
       "      <td>RENT</td>\n",
       "      <td>36000.0</td>\n",
       "      <td>Source Verified</td>\n",
       "      <td>wedding</td>\n",
       "      <td>11.20</td>\n",
       "      <td>no</td>\n",
       "      <td>yes</td>\n",
       "      <td>9.0</td>\n",
       "      <td>0.0</td>\n",
       "      <td>no</td>\n",
       "      <td>0.750000</td>\n",
       "      <td>f</td>\n",
       "      <td>Fully Paid</td>\n",
       "    </tr>\n",
       "  </tbody>\n",
       "</table>\n",
       "</div>"
      ],
      "text/plain": [
       "   loan_amnt amt_difference term  installment grade  emp_length  revol_bal  \\\n",
       "0     5000.0           less   36       162.87     B        10.0    13648.0   \n",
       "1     2500.0             eq   60        59.83     C         1.0     1687.0   \n",
       "2     2400.0             eq   36        84.33     C        10.0     2956.0   \n",
       "3    10000.0             eq   36       339.31     C        10.0     5598.0   \n",
       "5     5000.0             eq   36       156.46     A         3.0     7963.0   \n",
       "\n",
       "  home_ownership  annual_inc verification_status         purpose    dti  \\\n",
       "0           RENT     24000.0            Verified     credit_card  27.65   \n",
       "1           RENT     30000.0     Source Verified             car   1.00   \n",
       "2           RENT     12252.0        Not Verified  small_business   8.72   \n",
       "3           RENT     49200.0     Source Verified           other  20.00   \n",
       "5           RENT     36000.0     Source Verified         wedding  11.20   \n",
       "\n",
       "  delinq_2yrs_cat inq_last_6mths_cat  open_acc  pub_rec pub_rec_cat  \\\n",
       "0              no                yes       3.0      0.0          no   \n",
       "1              no                yes       3.0      0.0          no   \n",
       "2              no                yes       2.0      0.0          no   \n",
       "3              no                yes      10.0      0.0          no   \n",
       "5              no                yes       9.0      0.0          no   \n",
       "\n",
       "   acc_ratio initial_list_status  loan_status  \n",
       "0   0.333333                   f   Fully Paid  \n",
       "1   0.750000                   f  Charged Off  \n",
       "2   0.200000                   f   Fully Paid  \n",
       "3   0.270270                   f   Fully Paid  \n",
       "5   0.750000                   f   Fully Paid  "
      ]
     },
     "execution_count": 110,
     "metadata": {},
     "output_type": "execute_result"
    }
   ],
   "source": [
    "X_clean = df.loc[df.loan_status != 'Current', features] #features is at end to specify which columns we are specifically interested in looking through and using in X_clean dataframe\n",
    "#the cleaned dataframe is one that has it where the loan status is not equal to current\n",
    "#again, using loc as it lets us access rows and columns by label(s) or a boolean/conditional lookup\n",
    "X_clean.head() #get overview of new dataframe that is prepped for modelling"
   ]
  },
  {
   "cell_type": "code",
   "execution_count": 111,
   "metadata": {
    "_cell_guid": "b1290e10-3cf4-4d8f-84c9-8e3c8fd7576a",
    "_uuid": "22bb532654468e2733a030fb6456e4f72003b826"
   },
   "outputs": [],
   "source": [
    "mask = (X_clean.loan_status == 'Charged Off')  # == is a python operator that checks if two values are equal to each other or not\n",
    "#if they are, it returns True, and False if not\n",
    "#this line creates a boolean condition, where mask = True if the loan status is 'Charged Off', and mask = false if not \n",
    "X_clean['target'] = 0\n",
    "#this creates a new column called 'target', which stands for the target variable and end product we are trying to predict\n",
    "#sets target to 0 for all values\n",
    "X_clean.loc[mask,'target'] = 1\n",
    "#this uses .loc method to access cleaned dataframe with mask and 'target arguments', meaning that if mask is true, to set target for that specific data point in the column equal to one\n",
    "#this is important as this essentially gives us a clear way to point out which data points we are interested in\n",
    "#as mask is reflecting which loan statuses are charged off or not, and helping to assign charged off points a value of 1 with the latest line of code"
   ]
  },
  {
   "cell_type": "markdown",
   "metadata": {
    "_cell_guid": "fec59633-166f-4329-afc9-5a292e2e0eb8",
    "_uuid": "d69d03e470fac24485bdb7c1deefb00c02e17d6b"
   },
   "source": [
    "## A few last touches\n",
    "We may want to transform categorical variables in continuous variables using the One Hot Encoder. `pandas` has a built-in function for this.\n",
    "\n",
    "Clarification: One hot encoding is a method that converts categorical variables into binary vectors that can be utilized by Machine Learning algorithms to do a better job with predictions.\n",
    "\n",
    "The categorical value represents the numerical value of the entry in the dataset.\n",
    "\n",
    "We use one hot encoder to perform “binarization” of the category and include it as a feature to train the model."
   ]
  },
  {
   "cell_type": "code",
   "execution_count": 112,
   "metadata": {
    "_cell_guid": "b639f27c-b659-4be0-9b13-b02741c5d181",
    "_uuid": "1daa8573b1576dc15a42c878830245447ee3f83c"
   },
   "outputs": [],
   "source": [
    "cat_features = ['term','amt_difference', 'grade', 'home_ownership', 'verification_status', 'purpose', 'delinq_2yrs_cat', 'inq_last_6mths_cat', 'pub_rec_cat', 'initial_list_status']\n",
    "#make a list of the categorical variables we want to transform using one hot encoder\n",
    "\n",
    "X_clean.dropna(axis=0, how = 'any', inplace = True)\n",
    "# Drop any residual missing values, as this will tamper with one hot encoder\n",
    "\n",
    "X = pd.get_dummies(X_clean[X_clean.columns[:-2]], columns=cat_features).astype(float) #setting x values #FIGURE OUT\n",
    "#Convert categorical variable into dummy/indicator variables using get_dummies\n",
    "#X_clean[X_clean.columns[:-2]] = specify the dataframe wwe are using, X_CLean, specify using all columns except the last two (initial_list_status and loan_status)\n",
    "#Do you know why we are not including these two columns?\n",
    "#Columns = cat_features specifies which columns in the DataFrame to be encoded. If columns is None then all the columns with object or category dtype will be converted.\n",
    "#encode as type float\n",
    "y = X_clean['target'] \n",
    "#assign the target values from dataframe to y"
   ]
  },
  {
   "cell_type": "code",
   "execution_count": 113,
   "metadata": {},
   "outputs": [
    {
     "name": "stdout",
     "output_type": "stream",
     "text": [
      "0         0\n",
      "1         1\n",
      "2         0\n",
      "3         0\n",
      "5         0\n",
      "7         0\n",
      "8         1\n",
      "9         1\n",
      "10        0\n",
      "11        0\n",
      "12        1\n",
      "13        0\n",
      "14        1\n",
      "15        0\n",
      "16        0\n",
      "17        0\n",
      "18        0\n",
      "19        0\n",
      "20        0\n",
      "21        1\n",
      "22        0\n",
      "23        0\n",
      "24        1\n",
      "25        0\n",
      "26        1\n",
      "27        1\n",
      "28        0\n",
      "29        0\n",
      "30        0\n",
      "31        0\n",
      "         ..\n",
      "887202    0\n",
      "887206    0\n",
      "887219    0\n",
      "887235    0\n",
      "887252    0\n",
      "887253    0\n",
      "887258    1\n",
      "887262    0\n",
      "887267    0\n",
      "887268    0\n",
      "887272    1\n",
      "887279    1\n",
      "887280    0\n",
      "887283    0\n",
      "887284    0\n",
      "887294    1\n",
      "887307    1\n",
      "887312    1\n",
      "887326    0\n",
      "887334    1\n",
      "887336    0\n",
      "887341    0\n",
      "887349    0\n",
      "887350    0\n",
      "887351    0\n",
      "887355    1\n",
      "887368    0\n",
      "887370    0\n",
      "887373    0\n",
      "887375    1\n",
      "Name: target, Length: 285572, dtype: int64\n"
     ]
    }
   ],
   "source": [
    "print(y) #check values for y, see it contains all values for target, which are either 0 or 1 and represent if specific row is charged off or not"
   ]
  },
  {
   "cell_type": "markdown",
   "metadata": {
    "_cell_guid": "1d1ca51d-eb60-4434-b9be-4af8ba2c94e3",
    "_uuid": "1a9cedc0ad7882c022c7a553bef9f007746c8dfa"
   },
   "source": [
    "## The models\n",
    "\n",
    "Let's start modelling by importing a few libraries. We must also make sure to standardize all the features and data we are using for the models, in order to reduce quality distillation of our models.\n",
    "\n",
    "We are importing several modules from sklearn and imblearn which are useful for modelling and analysis.\n",
    "\n",
    "Regarding scaling, note that many estimators are designed with the assumption that each feature takes values close to zero or more importantly that all features vary on comparable scales. In particular, metric-based estimators often assume approximately standardized data (centered features with unit variances). A notable exception are decision tree-based estimators that are robust to arbitrary scaling of the data."
   ]
  },
  {
   "cell_type": "code",
   "execution_count": 114,
   "metadata": {
    "_cell_guid": "321143d8-50b5-47fb-93a6-f61aa81844d8",
    "_uuid": "d1ed4664766cf56052bc8ca6121df579e2f529c8"
   },
   "outputs": [
    {
     "name": "stdout",
     "output_type": "stream",
     "text": [
      "[[-1.06342482 -1.05092656  1.19312049 ... -0.38225728  0.67045937\n",
      "  -0.67045937]\n",
      " [-1.36792459 -1.46919029 -1.43222345 ... -0.38225728  0.67045937\n",
      "  -0.67045937]\n",
      " [-1.38010458 -1.369739    1.19312049 ... -0.38225728  0.67045937\n",
      "  -0.67045937]\n",
      " ...\n",
      " [-0.91421993 -0.81752047 -1.14051857 ... -0.38225728  0.67045937\n",
      "  -0.67045937]\n",
      " [-1.18522473 -1.19819566  1.19312049 ...  2.61603913  0.67045937\n",
      "  -0.67045937]\n",
      " [-0.35089537 -0.09225668  0.02630096 ... -0.38225728  0.67045937\n",
      "  -0.67045937]]\n",
      "   \n",
      "(285572, 51)\n"
     ]
    }
   ],
   "source": [
    "from sklearn.linear_model import LogisticRegression #Imports logistic regression feature for analysis\n",
    "from sklearn.model_selection import train_test_split #Imports train testing split, which split arrays or matrices into random train and test subsets\n",
    "#chooses a random subset (a specified fraction) of X and y as a training sample, uses the remainder as a test sample. random_state sets the initial value.\n",
    "from sklearn.model_selection import cross_val_score # Allows us to evaluate data by cross-validation\n",
    "#Learning the parameters of a prediction function and testing it on the same data is a methodological mistake: \n",
    "#a model that would just repeat the labels of the samples that it has just seen would have a perfect score but \n",
    "#would fail to predict anything useful on yet-unseen data. This situation is called overfitting. \n",
    "#To avoid it, it is common practice when performing a (supervised) machine learning experiment to \n",
    "#hold out part of the available data as a test set X_test, y_test. \n",
    "from sklearn import metrics #The sklearn.metrics module includes score functions, performance metrics \n",
    "#and pairwise metrics and distance computations.\n",
    "from sklearn import preprocessing #The sklearn.preprocessing package provides several common utility \n",
    "#functions and transformer classes to change raw feature vectors into a representation that is more \n",
    "#suitable for the downstream estimators.\n",
    "from sklearn.ensemble import RandomForestClassifier #import random forest classifier to use random forest\n",
    "from imblearn.over_sampling import SMOTE #Import SMOTE feature, explained below\n",
    "\n",
    "from sklearn.tree import DecisionTreeClassifier\n",
    "#added import\n",
    "\n",
    "X_scaled = preprocessing.scale(X) #standardize data set along x axis and scale properly\n",
    "print(X_scaled)\n",
    "print('   ')\n",
    "print(X_scaled.shape) #dimensions"
   ]
  },
  {
   "cell_type": "markdown",
   "metadata": {},
   "source": [
    "Standardization of datasets is a common requirement for many machine learning estimators implemented in scikit-learn; they might behave badly if the individual features do not more or less look like standard normally distributed data: Gaussian with zero mean and unit variance.\n",
    "\n",
    "In practice we often ignore the shape of the distribution and just transform the data to center it by removing the mean value of each feature, then scale it by dividing non-constant features by their standard deviation.\n",
    "\n",
    "For instance, many elements used in the objective function of a learning algorithm (such as the RBF kernel of Support Vector Machines or the l1 and l2 regularizers of linear models) assume that all features are centered around zero and have variance in the same order. If a feature has a variance that is orders of magnitude larger than others, it might dominate the objective function and make the estimator unable to learn from other features correctly as expected.\n",
    "\n",
    "The function scale we use above provides a quick and easy way to perform this operation on array-like datasets."
   ]
  },
  {
   "cell_type": "markdown",
   "metadata": {
    "_cell_guid": "dbbbf1c4-d8a8-40bd-8fb5-224e79288953",
    "_uuid": "30c0380aec61ee9c10ff20eab0fc60e9b62a4ecb"
   },
   "source": [
    "We will now run two models: Logistic Regression and Random Forest.\n",
    "\n",
    "Through these models we will make predictions and model the roc curve of the estimators. "
   ]
  },
  {
   "cell_type": "code",
   "execution_count": 115,
   "metadata": {
    "_cell_guid": "6f9f58c5-0229-4f20-b036-362033ea1b7d",
    "_uuid": "c052779ea2ba97a6ff7a648271fe8c366ceb9a61"
   },
   "outputs": [],
   "source": [
    "def run_models(X_train, y_train, X_test, y_test, model_type = 'Non-balanced'): #run_models is used below to run them\n",
    "    #define the funciton run models, with the parameters:\n",
    "    #X_train: training data set\n",
    "    #Y_train: set of labels to all the data in x_train\n",
    "    #The training set is a subset of the data set used to train a model.\n",
    "    #X_test: test data set\n",
    "    #y_test:  set of labels to all the data in x_test\n",
    "    #model_type: specify the type of model we want to use\n",
    "    #we select non-balanced for now, just to see how the initial model will fare\n",
    "    \n",
    "    clfs = {\n",
    "            'LogisticRegression' : LogisticRegression(),\n",
    "            'RandomForestClassifier': RandomForestClassifier(n_estimators=12), #n_estimators sets the number of trees in forest for model\n",
    "            'DecisionTreeClassifier': DecisionTreeClassifier(max_features=12)\n",
    "            }\n",
    "    #added Decision Tree Classifier and changed n_estimators\n",
    "    #took out weighting: class_weight= weights,\n",
    "    cols = ['model','matthews_corrcoef', 'roc_auc_score', 'precision_score', 'recall_score','f1_score']\n",
    "\n",
    "    #Establish which methods we want to use - Logistic Regression and Random Forest - with the clfs line that creates a dictionary\n",
    "    #of the two\n",
    "    #cols establishes a list of the specific columns of metrics we want\n",
    "    \n",
    "    models_report = pd.DataFrame(columns = cols) #this is used to generate an empty model report\n",
    "    conf_matrix = dict() #create a dictionary for the confidence matrix that assigns the confidence values to specific keys\n",
    "\n",
    "    for clf, clf_name in zip(clfs.values(), clfs.keys()): \n",
    "        #establish a for loop saying that for each method name and value,\n",
    "\n",
    "        clf.fit(X_train, y_train)\n",
    "        #Train the model by fitting it to data, using the training data set as inputs\n",
    "        \n",
    "        y_pred = clf.predict(X_test) #the predicted labels that will be returned from \n",
    "        #.predict, which predicts target values of X given a model\n",
    "        y_score = clf.predict_proba(X_test)[:,1] #the Target scores, \n",
    "        #can either be probability estimates of the positive class, confidence values, \n",
    "        #or non-thresholded measure of decisions (as returned by “decision_function” on some classifiers).\n",
    "        #obtained using .predict_proba, which is a\n",
    "        #method of a (soft) classifier outputting the probability of the instance being in each of the classes.\n",
    "        \n",
    "        print('computing {} - {} '.format(clf_name, model_type)) #print output saying that the file is computing\n",
    "        #specific model, which is why.format is used at end to pull name and model type to plug into statement\n",
    "\n",
    "        tmp = pd.Series({'model_type': model_type,\n",
    "                         'model': clf_name,\n",
    "                         'roc_auc_score' : metrics.roc_auc_score(y_test, y_score),\n",
    "                         'matthews_corrcoef': metrics.matthews_corrcoef(y_test, y_pred),\n",
    "                         'precision_score': metrics.precision_score(y_test, y_pred),\n",
    "                         'recall_score': metrics.recall_score(y_test, y_pred),\n",
    "                         'f1_score': metrics.f1_score(y_test, y_pred)})\n",
    "        #create a dictionary of series names and keys assigning values for what each item is\n",
    "        #the keys are the desired items we want in the end for our model analysis, with the values\n",
    "        #explaining how each key is assigned/calculated \n",
    "        \n",
    "        models_report = models_report.append(tmp, ignore_index = True)\n",
    "        #append the tmp values to our currently empty model report\n",
    "        #ignore_index = True means we ignore and do not use the index labels, do this as the report needs to show\n",
    "        #only the names, not the methods for how each item is analyzed\n",
    "        conf_matrix[clf_name] = pd.crosstab(y_test, y_pred, rownames=['True'], colnames= ['Predicted'], margins=False)\n",
    "        #establish the confidence matrix, crosstab Compute a simple cross-tabulation of two (or more) factors.\n",
    "        #Cross tabulation is a tool that allows you compare the relationship between two or more factors.\n",
    "        #Can you tell what factors are we cross tabulating?\n",
    "        fpr, tpr, thresholds = metrics.roc_curve(y_test, y_score, drop_intermediate = False, pos_label = 1)\n",
    "        #the returns of the ROC curve, all three are arrays \n",
    "        #hence use of metrics.roc_curve, uses y test data and target scores to determine three return values\n",
    "        plt.figure(1, figsize=(6,6))\n",
    "        plt.xlabel('false positive rate')\n",
    "        plt.ylabel('true positive rate')\n",
    "        plt.title('ROC curve - {}'.format(model_type))\n",
    "        plt.plot(fpr, tpr, label = clf_name )\n",
    "        plt.legend(loc=2, prop={'size':11})\n",
    "    plt.plot([0,1],[0,1], color = 'black')\n",
    "        #plotting dimensions and specifics for the result graph\n",
    "    \n",
    "    return models_report, conf_matrix\n",
    "    #after running function, also give us models_report and confidence matrix for methods"
   ]
  },
  {
   "cell_type": "markdown",
   "metadata": {
    "_cell_guid": "9dae5eb4-1712-4dc9-a0a5-53aefbb64c94",
    "_uuid": "ca8c1c8a9d5dd26ee0f095722c25269636c60521"
   },
   "source": [
    "### Model with unbalanced classes\n",
    "If we do not modify the class ratios our model has very poor predictive power. The area ander the curve (AUC) is about 0.6, suggesting that we perform better than random. However, the recall is zero: we cannot predict the target variable at all. This might be either because there is something wrong with the metrics or because the classes are too unbalanced. "
   ]
  },
  {
   "cell_type": "code",
   "execution_count": 116,
   "metadata": {
    "_cell_guid": "2e05aab4-f1db-4ddb-99be-7c590d1c5370",
    "_uuid": "2e4199ada384ca69007b31f1d7eac01735483658"
   },
   "outputs": [
    {
     "name": "stdout",
     "output_type": "stream",
     "text": [
      "computing LogisticRegression - Non-balanced \n",
      "computing RandomForestClassifier - Non-balanced \n",
      "computing DecisionTreeClassifier - Non-balanced \n"
     ]
    },
    {
     "data": {
      "image/png": "[encoded data removed]",
      "text/plain": [
       "<Figure size 432x432 with 1 Axes>"
      ]
     },
     "metadata": {},
     "output_type": "display_data"
    }
   ],
   "source": [
    "#mpl.rc(\"savefig\", dpi=300)\n",
    "\n",
    "X_train, X_test, y_train, y_test = train_test_split(X_scaled, y.values, test_size=0.2, random_state=0)\n",
    "#feed training and testing data into train_test_split\n",
    "#test size is 40%, making training set 60%\n",
    "#changed this to 20% and 80%\n",
    "#If int, random_state is the seed used by the random number generator;\n",
    "#A random seed (or seed state, or just seed) is a number (or vector) \n",
    "#used to initialize a pseudorandom number generator and set initial value \n",
    "#random_state is 0\n",
    "\n",
    "models_report, conf_matrix = run_models(X_train, y_train, X_test, y_test, model_type = 'Non-balanced')\n",
    "#now focus on models report and confidence matrix\n",
    "#run models using data set and non balanced, outputs will be assigned to output report and matrix"
   ]
  },
  {
   "cell_type": "markdown",
   "metadata": {},
   "source": [
    "What does this graph mean? "
   ]
  },
  {
   "cell_type": "code",
   "execution_count": 117,
   "metadata": {
    "_cell_guid": "69a02ef6-8030-480b-905e-207bf1200de3",
    "_uuid": "195d43c8c745c86e19b66a5dee0e663769807d21"
   },
   "outputs": [
    {
     "data": {
      "text/html": [
       "<div>\n",
       "<style scoped>\n",
       "    .dataframe tbody tr th:only-of-type {\n",
       "        vertical-align: middle;\n",
       "    }\n",
       "\n",
       "    .dataframe tbody tr th {\n",
       "        vertical-align: top;\n",
       "    }\n",
       "\n",
       "    .dataframe thead th {\n",
       "        text-align: right;\n",
       "    }\n",
       "</style>\n",
       "<table border=\"1\" class=\"dataframe\">\n",
       "  <thead>\n",
       "    <tr style=\"text-align: right;\">\n",
       "      <th></th>\n",
       "      <th>model</th>\n",
       "      <th>matthews_corrcoef</th>\n",
       "      <th>roc_auc_score</th>\n",
       "      <th>precision_score</th>\n",
       "      <th>recall_score</th>\n",
       "      <th>f1_score</th>\n",
       "      <th>model_type</th>\n",
       "    </tr>\n",
       "  </thead>\n",
       "  <tbody>\n",
       "    <tr>\n",
       "      <th>0</th>\n",
       "      <td>LogisticRegression</td>\n",
       "      <td>0.030033</td>\n",
       "      <td>0.679819</td>\n",
       "      <td>0.750000</td>\n",
       "      <td>0.001634</td>\n",
       "      <td>0.003262</td>\n",
       "      <td>Non-balanced</td>\n",
       "    </tr>\n",
       "    <tr>\n",
       "      <th>1</th>\n",
       "      <td>RandomForestClassifier</td>\n",
       "      <td>0.052172</td>\n",
       "      <td>0.615165</td>\n",
       "      <td>0.317802</td>\n",
       "      <td>0.028982</td>\n",
       "      <td>0.053120</td>\n",
       "      <td>Non-balanced</td>\n",
       "    </tr>\n",
       "    <tr>\n",
       "      <th>2</th>\n",
       "      <td>DecisionTreeClassifier</td>\n",
       "      <td>0.055760</td>\n",
       "      <td>0.528565</td>\n",
       "      <td>0.205825</td>\n",
       "      <td>0.218675</td>\n",
       "      <td>0.212056</td>\n",
       "      <td>Non-balanced</td>\n",
       "    </tr>\n",
       "  </tbody>\n",
       "</table>\n",
       "</div>"
      ],
      "text/plain": [
       "                    model  matthews_corrcoef  roc_auc_score  precision_score  \\\n",
       "0      LogisticRegression           0.030033       0.679819         0.750000   \n",
       "1  RandomForestClassifier           0.052172       0.615165         0.317802   \n",
       "2  DecisionTreeClassifier           0.055760       0.528565         0.205825   \n",
       "\n",
       "   recall_score  f1_score    model_type  \n",
       "0      0.001634  0.003262  Non-balanced  \n",
       "1      0.028982  0.053120  Non-balanced  \n",
       "2      0.218675  0.212056  Non-balanced  "
      ]
     },
     "execution_count": 117,
     "metadata": {},
     "output_type": "execute_result"
    }
   ],
   "source": [
    "models_report #now to get a report of the models"
   ]
  },
  {
   "cell_type": "code",
   "execution_count": 118,
   "metadata": {
    "_cell_guid": "b55d0ff0-54f5-4979-bf59-bb6f904f73cc",
    "_uuid": "3c4b617386fd76f71d245e4f682894882ac1fab9"
   },
   "outputs": [
    {
     "data": {
      "text/html": [
       "<div>\n",
       "<style scoped>\n",
       "    .dataframe tbody tr th:only-of-type {\n",
       "        vertical-align: middle;\n",
       "    }\n",
       "\n",
       "    .dataframe tbody tr th {\n",
       "        vertical-align: top;\n",
       "    }\n",
       "\n",
       "    .dataframe thead th {\n",
       "        text-align: right;\n",
       "    }\n",
       "</style>\n",
       "<table border=\"1\" class=\"dataframe\">\n",
       "  <thead>\n",
       "    <tr style=\"text-align: right;\">\n",
       "      <th>Predicted</th>\n",
       "      <th>0</th>\n",
       "      <th>1</th>\n",
       "    </tr>\n",
       "    <tr>\n",
       "      <th>True</th>\n",
       "      <th></th>\n",
       "      <th></th>\n",
       "    </tr>\n",
       "  </thead>\n",
       "  <tbody>\n",
       "    <tr>\n",
       "      <th>0</th>\n",
       "      <td>47932</td>\n",
       "      <td>5</td>\n",
       "    </tr>\n",
       "    <tr>\n",
       "      <th>1</th>\n",
       "      <td>9163</td>\n",
       "      <td>15</td>\n",
       "    </tr>\n",
       "  </tbody>\n",
       "</table>\n",
       "</div>"
      ],
      "text/plain": [
       "Predicted      0   1\n",
       "True                \n",
       "0          47932   5\n",
       "1           9163  15"
      ]
     },
     "execution_count": 118,
     "metadata": {},
     "output_type": "execute_result"
    }
   ],
   "source": [
    "conf_matrix['LogisticRegression'] #the confidence matrix for logistic regression"
   ]
  },
  {
   "cell_type": "code",
   "execution_count": 119,
   "metadata": {
    "scrolled": true
   },
   "outputs": [
    {
     "data": {
      "text/html": [
       "<div>\n",
       "<style scoped>\n",
       "    .dataframe tbody tr th:only-of-type {\n",
       "        vertical-align: middle;\n",
       "    }\n",
       "\n",
       "    .dataframe tbody tr th {\n",
       "        vertical-align: top;\n",
       "    }\n",
       "\n",
       "    .dataframe thead th {\n",
       "        text-align: right;\n",
       "    }\n",
       "</style>\n",
       "<table border=\"1\" class=\"dataframe\">\n",
       "  <thead>\n",
       "    <tr style=\"text-align: right;\">\n",
       "      <th>Predicted</th>\n",
       "      <th>0</th>\n",
       "      <th>1</th>\n",
       "    </tr>\n",
       "    <tr>\n",
       "      <th>True</th>\n",
       "      <th></th>\n",
       "      <th></th>\n",
       "    </tr>\n",
       "  </thead>\n",
       "  <tbody>\n",
       "    <tr>\n",
       "      <th>0</th>\n",
       "      <td>47366</td>\n",
       "      <td>571</td>\n",
       "    </tr>\n",
       "    <tr>\n",
       "      <th>1</th>\n",
       "      <td>8912</td>\n",
       "      <td>266</td>\n",
       "    </tr>\n",
       "  </tbody>\n",
       "</table>\n",
       "</div>"
      ],
      "text/plain": [
       "Predicted      0    1\n",
       "True                 \n",
       "0          47366  571\n",
       "1           8912  266"
      ]
     },
     "execution_count": 119,
     "metadata": {},
     "output_type": "execute_result"
    }
   ],
   "source": [
    "conf_matrix['RandomForestClassifier'] #the confidence matrix for random forest"
   ]
  },
  {
   "cell_type": "code",
   "execution_count": 120,
   "metadata": {},
   "outputs": [
    {
     "data": {
      "text/html": [
       "<div>\n",
       "<style scoped>\n",
       "    .dataframe tbody tr th:only-of-type {\n",
       "        vertical-align: middle;\n",
       "    }\n",
       "\n",
       "    .dataframe tbody tr th {\n",
       "        vertical-align: top;\n",
       "    }\n",
       "\n",
       "    .dataframe thead th {\n",
       "        text-align: right;\n",
       "    }\n",
       "</style>\n",
       "<table border=\"1\" class=\"dataframe\">\n",
       "  <thead>\n",
       "    <tr style=\"text-align: right;\">\n",
       "      <th>Predicted</th>\n",
       "      <th>0</th>\n",
       "      <th>1</th>\n",
       "    </tr>\n",
       "    <tr>\n",
       "      <th>True</th>\n",
       "      <th></th>\n",
       "      <th></th>\n",
       "    </tr>\n",
       "  </thead>\n",
       "  <tbody>\n",
       "    <tr>\n",
       "      <th>0</th>\n",
       "      <td>40193</td>\n",
       "      <td>7744</td>\n",
       "    </tr>\n",
       "    <tr>\n",
       "      <th>1</th>\n",
       "      <td>7171</td>\n",
       "      <td>2007</td>\n",
       "    </tr>\n",
       "  </tbody>\n",
       "</table>\n",
       "</div>"
      ],
      "text/plain": [
       "Predicted      0     1\n",
       "True                  \n",
       "0          40193  7744\n",
       "1           7171  2007"
      ]
     },
     "execution_count": 120,
     "metadata": {},
     "output_type": "execute_result"
    }
   ],
   "source": [
    "conf_matrix['DecisionTreeClassifier']"
   ]
  },
  {
   "cell_type": "markdown",
   "metadata": {},
   "source": [
    "# Improving Our Model\n",
    "##Modelling with Balanced Classes"
   ]
  },
  {
   "cell_type": "markdown",
   "metadata": {},
   "source": [
    "Using SMOTE ( Synthetic Minority Over-sampling Technique), we can aritifically balance our classes and get a better prediction.\n",
    "\n",
    "We use a K-nearest neighbour approach and make feature vectors resembling the target variable's. The minority class is oversampled. With this, the model performance will improve."
   ]
  },
  {
   "cell_type": "code",
   "execution_count": 121,
   "metadata": {},
   "outputs": [
    {
     "name": "stdout",
     "output_type": "stream",
     "text": [
      "computing LogisticRegression - Balanced \n",
      "computing RandomForestClassifier - Balanced \n",
      "computing DecisionTreeClassifier - Balanced \n"
     ]
    },
    {
     "data": {
      "image/png": "[encoded data removed]",
      "text/plain": [
       "<Figure size 432x432 with 1 Axes>"
      ]
     },
     "metadata": {},
     "output_type": "display_data"
    }
   ],
   "source": [
    "index_split = int(len(X)/2)#split index in by length of X/2\n",
    "X_train, y_train = SMOTE().fit_sample(X_scaled[0:index_split, :], y[0:index_split])\n",
    "#use SMOTE to fit sample\n",
    "#Define X parameter to fit to and Y\n",
    "#new training data set\n",
    "X_test, y_test = X_scaled[index_split:], y[index_split:]\n",
    "#define test data\n",
    "\n",
    "#scores = cross_val_score(clf, X_scaled, y , cv=5, scoring='roc_auc')\n",
    "\n",
    "models_report_bal, conf_matrix_bal = run_models(X_train, y_train, X_test, y_test, model_type = 'Balanced')\n",
    "#same as before, but change model type to balanced now\n",
    "#The “balanced” mode uses the values of y to automatically adjust weights \n",
    "#inversely proportional to class frequencies in the input data as n_samples / (n_classes * np.bincount(y))"
   ]
  },
  {
   "cell_type": "code",
   "execution_count": 122,
   "metadata": {},
   "outputs": [
    {
     "data": {
      "text/html": [
       "<div>\n",
       "<style scoped>\n",
       "    .dataframe tbody tr th:only-of-type {\n",
       "        vertical-align: middle;\n",
       "    }\n",
       "\n",
       "    .dataframe tbody tr th {\n",
       "        vertical-align: top;\n",
       "    }\n",
       "\n",
       "    .dataframe thead th {\n",
       "        text-align: right;\n",
       "    }\n",
       "</style>\n",
       "<table border=\"1\" class=\"dataframe\">\n",
       "  <thead>\n",
       "    <tr style=\"text-align: right;\">\n",
       "      <th></th>\n",
       "      <th>model</th>\n",
       "      <th>matthews_corrcoef</th>\n",
       "      <th>roc_auc_score</th>\n",
       "      <th>precision_score</th>\n",
       "      <th>recall_score</th>\n",
       "      <th>f1_score</th>\n",
       "      <th>model_type</th>\n",
       "    </tr>\n",
       "  </thead>\n",
       "  <tbody>\n",
       "    <tr>\n",
       "      <th>0</th>\n",
       "      <td>LogisticRegression</td>\n",
       "      <td>0.164934</td>\n",
       "      <td>0.660812</td>\n",
       "      <td>0.200807</td>\n",
       "      <td>0.709816</td>\n",
       "      <td>0.313051</td>\n",
       "      <td>Balanced</td>\n",
       "    </tr>\n",
       "    <tr>\n",
       "      <th>1</th>\n",
       "      <td>RandomForestClassifier</td>\n",
       "      <td>0.095565</td>\n",
       "      <td>0.610752</td>\n",
       "      <td>0.226126</td>\n",
       "      <td>0.224244</td>\n",
       "      <td>0.225181</td>\n",
       "      <td>Balanced</td>\n",
       "    </tr>\n",
       "    <tr>\n",
       "      <th>2</th>\n",
       "      <td>DecisionTreeClassifier</td>\n",
       "      <td>0.052887</td>\n",
       "      <td>0.533863</td>\n",
       "      <td>0.173607</td>\n",
       "      <td>0.338995</td>\n",
       "      <td>0.229621</td>\n",
       "      <td>Balanced</td>\n",
       "    </tr>\n",
       "  </tbody>\n",
       "</table>\n",
       "</div>"
      ],
      "text/plain": [
       "                    model  matthews_corrcoef  roc_auc_score  precision_score  \\\n",
       "0      LogisticRegression           0.164934       0.660812         0.200807   \n",
       "1  RandomForestClassifier           0.095565       0.610752         0.226126   \n",
       "2  DecisionTreeClassifier           0.052887       0.533863         0.173607   \n",
       "\n",
       "   recall_score  f1_score model_type  \n",
       "0      0.709816  0.313051   Balanced  \n",
       "1      0.224244  0.225181   Balanced  \n",
       "2      0.338995  0.229621   Balanced  "
      ]
     },
     "execution_count": 122,
     "metadata": {},
     "output_type": "execute_result"
    }
   ],
   "source": [
    "models_report_bal #balanced report"
   ]
  },
  {
   "cell_type": "code",
   "execution_count": 123,
   "metadata": {},
   "outputs": [
    {
     "data": {
      "text/html": [
       "<div>\n",
       "<style scoped>\n",
       "    .dataframe tbody tr th:only-of-type {\n",
       "        vertical-align: middle;\n",
       "    }\n",
       "\n",
       "    .dataframe tbody tr th {\n",
       "        vertical-align: top;\n",
       "    }\n",
       "\n",
       "    .dataframe thead th {\n",
       "        text-align: right;\n",
       "    }\n",
       "</style>\n",
       "<table border=\"1\" class=\"dataframe\">\n",
       "  <thead>\n",
       "    <tr style=\"text-align: right;\">\n",
       "      <th>Predicted</th>\n",
       "      <th>0</th>\n",
       "      <th>1</th>\n",
       "    </tr>\n",
       "    <tr>\n",
       "      <th>True</th>\n",
       "      <th></th>\n",
       "      <th></th>\n",
       "    </tr>\n",
       "  </thead>\n",
       "  <tbody>\n",
       "    <tr>\n",
       "      <th>0</th>\n",
       "      <td>64186</td>\n",
       "      <td>58051</td>\n",
       "    </tr>\n",
       "    <tr>\n",
       "      <th>1</th>\n",
       "      <td>5963</td>\n",
       "      <td>14586</td>\n",
       "    </tr>\n",
       "  </tbody>\n",
       "</table>\n",
       "</div>"
      ],
      "text/plain": [
       "Predicted      0      1\n",
       "True                   \n",
       "0          64186  58051\n",
       "1           5963  14586"
      ]
     },
     "execution_count": 123,
     "metadata": {},
     "output_type": "execute_result"
    }
   ],
   "source": [
    "conf_matrix_bal['LogisticRegression'] #balanced logistic regression"
   ]
  },
  {
   "cell_type": "code",
   "execution_count": 124,
   "metadata": {},
   "outputs": [
    {
     "data": {
      "text/html": [
       "<div>\n",
       "<style scoped>\n",
       "    .dataframe tbody tr th:only-of-type {\n",
       "        vertical-align: middle;\n",
       "    }\n",
       "\n",
       "    .dataframe tbody tr th {\n",
       "        vertical-align: top;\n",
       "    }\n",
       "\n",
       "    .dataframe thead th {\n",
       "        text-align: right;\n",
       "    }\n",
       "</style>\n",
       "<table border=\"1\" class=\"dataframe\">\n",
       "  <thead>\n",
       "    <tr style=\"text-align: right;\">\n",
       "      <th>Predicted</th>\n",
       "      <th>0</th>\n",
       "      <th>1</th>\n",
       "    </tr>\n",
       "    <tr>\n",
       "      <th>True</th>\n",
       "      <th></th>\n",
       "      <th></th>\n",
       "    </tr>\n",
       "  </thead>\n",
       "  <tbody>\n",
       "    <tr>\n",
       "      <th>0</th>\n",
       "      <td>106467</td>\n",
       "      <td>15770</td>\n",
       "    </tr>\n",
       "    <tr>\n",
       "      <th>1</th>\n",
       "      <td>15941</td>\n",
       "      <td>4608</td>\n",
       "    </tr>\n",
       "  </tbody>\n",
       "</table>\n",
       "</div>"
      ],
      "text/plain": [
       "Predicted       0      1\n",
       "True                    \n",
       "0          106467  15770\n",
       "1           15941   4608"
      ]
     },
     "execution_count": 124,
     "metadata": {},
     "output_type": "execute_result"
    }
   ],
   "source": [
    "conf_matrix_bal['RandomForestClassifier'] #balanced logistic regression"
   ]
  },
  {
   "cell_type": "code",
   "execution_count": 125,
   "metadata": {},
   "outputs": [
    {
     "data": {
      "text/html": [
       "<div>\n",
       "<style scoped>\n",
       "    .dataframe tbody tr th:only-of-type {\n",
       "        vertical-align: middle;\n",
       "    }\n",
       "\n",
       "    .dataframe tbody tr th {\n",
       "        vertical-align: top;\n",
       "    }\n",
       "\n",
       "    .dataframe thead th {\n",
       "        text-align: right;\n",
       "    }\n",
       "</style>\n",
       "<table border=\"1\" class=\"dataframe\">\n",
       "  <thead>\n",
       "    <tr style=\"text-align: right;\">\n",
       "      <th>Predicted</th>\n",
       "      <th>0</th>\n",
       "      <th>1</th>\n",
       "    </tr>\n",
       "    <tr>\n",
       "      <th>True</th>\n",
       "      <th></th>\n",
       "      <th></th>\n",
       "    </tr>\n",
       "  </thead>\n",
       "  <tbody>\n",
       "    <tr>\n",
       "      <th>0</th>\n",
       "      <td>40193</td>\n",
       "      <td>7744</td>\n",
       "    </tr>\n",
       "    <tr>\n",
       "      <th>1</th>\n",
       "      <td>7171</td>\n",
       "      <td>2007</td>\n",
       "    </tr>\n",
       "  </tbody>\n",
       "</table>\n",
       "</div>"
      ],
      "text/plain": [
       "Predicted      0     1\n",
       "True                  \n",
       "0          40193  7744\n",
       "1           7171  2007"
      ]
     },
     "execution_count": 125,
     "metadata": {},
     "output_type": "execute_result"
    }
   ],
   "source": [
    "conf_matrix['DecisionTreeClassifier']"
   ]
  },
  {
   "cell_type": "code",
   "execution_count": null,
   "metadata": {},
   "outputs": [],
   "source": []
  }
 ],
 "metadata": {
  "kernelspec": {
   "display_name": "Python 3",
   "language": "python",
   "name": "python3"
  },
  "language_info": {
   "codemirror_mode": {
    "name": "ipython",
    "version": 3
   },
   "file_extension": ".py",
   "mimetype": "text/x-python",
   "name": "python",
   "nbconvert_exporter": "python",
   "pygments_lexer": "ipython3",
   "version": "3.6.5"
  }
 },
 "nbformat": 4,
 "nbformat_minor": 1
}
